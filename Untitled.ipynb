{
 "cells": [
  {
   "cell_type": "markdown",
   "id": "d7be5fd7",
   "metadata": {},
   "source": [
    "## This is the start of the code for the first repo by Anton Kruse"
   ]
  },
  {
   "cell_type": "code",
   "execution_count": 1,
   "id": "807ab43e",
   "metadata": {},
   "outputs": [],
   "source": [
    "# import needed packages\n",
    "import pandas as pd\n",
    "import numpy as pd\n",
    "import matplotlib.pyplot as plt\n",
    "import seaborn as sns"
   ]
  },
  {
   "cell_type": "code",
   "execution_count": 2,
   "id": "fb03ca17",
   "metadata": {},
   "outputs": [],
   "source": [
    "# ich nehme hier nun eine änderung vor, wie wirkt sich das in github aus"
   ]
  },
  {
   "cell_type": "code",
   "execution_count": 3,
   "id": "1ebc92e1",
   "metadata": {},
   "outputs": [
    {
     "data": {
      "text/plain": [
       "5"
      ]
     },
     "execution_count": 3,
     "metadata": {},
     "output_type": "execute_result"
    }
   ],
   "source": [
    "var = 2+3\n",
    "var"
   ]
  },
  {
   "cell_type": "code",
   "execution_count": null,
   "id": "2e141770",
   "metadata": {},
   "outputs": [],
   "source": []
  }
 ],
 "metadata": {
  "kernelspec": {
   "display_name": "Python 3 (ipykernel)",
   "language": "python",
   "name": "python3"
  },
  "language_info": {
   "codemirror_mode": {
    "name": "ipython",
    "version": 3
   },
   "file_extension": ".py",
   "mimetype": "text/x-python",
   "name": "python",
   "nbconvert_exporter": "python",
   "pygments_lexer": "ipython3",
   "version": "3.9.12"
  }
 },
 "nbformat": 4,
 "nbformat_minor": 5
}
